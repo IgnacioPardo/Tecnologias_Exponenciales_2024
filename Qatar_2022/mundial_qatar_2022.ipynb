{
 "cells": [
  {
   "cell_type": "markdown",
   "metadata": {},
   "source": [
    "## Librerias"
   ]
  },
  {
   "cell_type": "code",
   "execution_count": null,
   "metadata": {},
   "outputs": [],
   "source": [
    "%pip install pandas\n",
    "%pip install matplotlib"
   ]
  },
  {
   "cell_type": "code",
   "execution_count": null,
   "metadata": {},
   "outputs": [],
   "source": [
    "import pandas as pd\n",
    "import matplotlib.pyplot as plt"
   ]
  },
  {
   "cell_type": "markdown",
   "metadata": {},
   "source": [
    "## Lectura de datos\n",
    "\n",
    "- [Dataset Qatar 2022: https://www.kaggle.com/datasets/die9origephit/fifa-world-cup-2022-complete-dataset](https://www.kaggle.com/datasets/die9origephit/fifa-world-cup-2022-complete-dataset)"
   ]
  },
  {
   "cell_type": "code",
   "execution_count": null,
   "metadata": {},
   "outputs": [],
   "source": [
    "archivo = \"https://raw.githubusercontent.com/IgnacioPardo/Tecnologias_Exponenciales_2024/main/Qatar_2022/Fifa_world_cup_matches.csv\"\n",
    "\n",
    "# Leer datos del archivo\n",
    "mundial : pd.DataFrame = pd.read_csv(archivo)\n",
    "mundial"
   ]
  },
  {
   "cell_type": "code",
   "execution_count": null,
   "metadata": {},
   "outputs": [],
   "source": [
    "# Checkear tipo de mundial\n",
    "# Completar"
   ]
  },
  {
   "cell_type": "code",
   "execution_count": 9,
   "metadata": {},
   "outputs": [],
   "source": [
    "# Que datos tiene el dataset? (Pista: usar .info(), .describe(), .columns, .head())\n",
    "# Checkear columnas\n",
    "# Completar\n"
   ]
  },
  {
   "cell_type": "markdown",
   "metadata": {},
   "source": [
    "## Analisis"
   ]
  },
  {
   "cell_type": "markdown",
   "metadata": {},
   "source": [
    "### Primera Parte"
   ]
  },
  {
   "cell_type": "code",
   "execution_count": null,
   "metadata": {},
   "outputs": [],
   "source": [
    "equipo : str = \"ARGENTINA\""
   ]
  },
  {
   "cell_type": "code",
   "execution_count": null,
   "metadata": {},
   "outputs": [],
   "source": [
    "# Seleccionar todos los partidos que jugo un equipo de \"local\"\n",
    "# Completar\n",
    "\n",
    "filtroLocal : pd.Series = "
   ]
  },
  {
   "cell_type": "code",
   "execution_count": null,
   "metadata": {},
   "outputs": [],
   "source": [
    "# Seleccionar todos los partidos que jugo un equipo de \"visitante\"\n",
    "# Completar\n",
    "\n",
    "filtroVisitante : pd.Series = "
   ]
  },
  {
   "cell_type": "code",
   "execution_count": null,
   "metadata": {},
   "outputs": [],
   "source": [
    "# Seleccionar todos los partidos que jugo un equipo (de \"local\" o \"visitante\")\n",
    "# Completar\n",
    "\n",
    "partidos : pd.DataFrame =\n"
   ]
  },
  {
   "cell_type": "code",
   "execution_count": null,
   "metadata": {},
   "outputs": [],
   "source": [
    "# Cuantos goles hizo el equipo en total (obtener los goles metidos de local y sumarlos con los goles metidos de visitante)\n",
    "# Completar\n",
    "\n",
    "goles : int ="
   ]
  },
  {
   "cell_type": "code",
   "execution_count": null,
   "metadata": {},
   "outputs": [],
   "source": [
    "# Cuantos goles hizo el equipo en promedio\n",
    "# Completar\n",
    "\n",
    "golesPromedio : float ="
   ]
  },
  {
   "cell_type": "code",
   "execution_count": null,
   "metadata": {},
   "outputs": [],
   "source": [
    "# Cuantos partidos gano el equipo\n",
    "# Completar\n",
    "\n",
    "ganados : int ="
   ]
  },
  {
   "cell_type": "code",
   "execution_count": null,
   "metadata": {},
   "outputs": [],
   "source": [
    "# Graficar los goles hechos por el equipo en cada partido\n",
    "\n",
    "fig, ax = plt.subplots()\n",
    "# Completar"
   ]
  },
  {
   "cell_type": "markdown",
   "metadata": {},
   "source": [
    "### Segunda Parte"
   ]
  },
  {
   "cell_type": "code",
   "execution_count": null,
   "metadata": {},
   "outputs": [],
   "source": [
    "# Contar cuantos goles hizo cada equipo en total en el mundial\n",
    "# Completar\n",
    "\n",
    "equipos = \n",
    "goles = "
   ]
  },
  {
   "cell_type": "code",
   "execution_count": null,
   "metadata": {},
   "outputs": [],
   "source": [
    "# Graficar los goles por equipo en todo el mundial\n",
    "\n",
    "fig, ax = plt.subplots()\n",
    "# Completar"
   ]
  },
  {
   "cell_type": "code",
   "execution_count": null,
   "metadata": {},
   "outputs": [],
   "source": [
    "# Cual es el equipo que hizo mas goles en el mundial?\n",
    "# Completar"
   ]
  },
  {
   "cell_type": "code",
   "execution_count": null,
   "metadata": {},
   "outputs": [],
   "source": [
    "# Por cada partido, cual fue la diferencia de goles?\n",
    "# Completar"
   ]
  },
  {
   "cell_type": "code",
   "execution_count": null,
   "metadata": {},
   "outputs": [],
   "source": [
    "# Por cada partido, cual fue el equipo que gano?\n",
    "# Completar"
   ]
  },
  {
   "cell_type": "code",
   "execution_count": null,
   "metadata": {},
   "outputs": [],
   "source": [
    "# En cada fase del mundial, cual fue el equipo que hizo mas goles?\n",
    "# Completar"
   ]
  },
  {
   "cell_type": "markdown",
   "metadata": {},
   "source": [
    "### Tercera Parte"
   ]
  },
  {
   "cell_type": "code",
   "execution_count": null,
   "metadata": {},
   "outputs": [],
   "source": [
    "# Armar un gráfico a partir de algun nuevo análisis que se te ocurra\n",
    "# Completar"
   ]
  }
 ],
 "metadata": {
  "kernelspec": {
   "display_name": "coding",
   "language": "python",
   "name": "python3"
  },
  "language_info": {
   "codemirror_mode": {
    "name": "ipython",
    "version": 3
   },
   "file_extension": ".py",
   "mimetype": "text/x-python",
   "name": "python",
   "nbconvert_exporter": "python",
   "pygments_lexer": "ipython3",
   "version": "3.8.12"
  }
 },
 "nbformat": 4,
 "nbformat_minor": 2
}
